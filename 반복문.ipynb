{
  "nbformat": 4,
  "nbformat_minor": 0,
  "metadata": {
    "colab": {
      "name": "반복문",
      "provenance": [],
      "authorship_tag": "ABX9TyMtpIfwA3USe+qlNR2q1pgT",
      "include_colab_link": true
    },
    "kernelspec": {
      "name": "python3",
      "display_name": "Python 3"
    },
    "language_info": {
      "name": "python"
    }
  },
  "cells": [
    {
      "cell_type": "markdown",
      "metadata": {
        "id": "view-in-github",
        "colab_type": "text"
      },
      "source": [
        "<a href=\"https://colab.research.google.com/github/lsk2208lsk/python_/blob/main/%EB%B0%98%EB%B3%B5%EB%AC%B8.ipynb\" target=\"_parent\"><img src=\"https://colab.research.google.com/assets/colab-badge.svg\" alt=\"Open In Colab\"/></a>"
      ]
    },
    {
      "cell_type": "code",
      "metadata": {
        "id": "Cs71ddff6mQF"
      },
      "source": [
        "a - [1,2,3,4,5]\n",
        "\n",
        "for i in a:\n",
        "  print(i, i*2)\n",
        "print('\\ni 최종값:', i)"
      ],
      "execution_count": null,
      "outputs": []
    },
    {
      "cell_type": "code",
      "metadata": {
        "id": "ijHvJZcyCdML"
      },
      "source": [
        "a = [3,7,9,29,18]\n",
        "\n",
        "for i in a:\n",
        "  if i>5 and i<20 :\n",
        "    continue\n",
        "    print(i)"
      ],
      "execution_count": null,
      "outputs": []
    }
  ]
}